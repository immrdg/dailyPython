{
 "cells": [
  {
   "cell_type": "markdown",
   "id": "89ff96ed",
   "metadata": {
    "ExecuteTime": {
     "end_time": "2021-07-14T16:25:45.777270Z",
     "start_time": "2021-07-14T16:25:45.768360Z"
    }
   },
   "source": [
    "# Dicts"
   ]
  },
  {
   "cell_type": "markdown",
   "id": "ae083efb",
   "metadata": {},
   "source": [
    "<pre>\n",
    "dict is likely the most important built-in Python data structure. A more common\n",
    "name for it is hash map or associative array. It is a flexibly sized collection of key-value\n",
    "pairs, where key and value are Python objects. One approach for creating one is to use\n",
    "curly braces {} and colons to separate keys and values:\n",
    "</pre>"
   ]
  },
  {
   "cell_type": "code",
   "execution_count": 1,
   "id": "b52ec663",
   "metadata": {
    "ExecuteTime": {
     "end_time": "2021-07-14T16:26:27.701623Z",
     "start_time": "2021-07-14T16:26:27.685328Z"
    }
   },
   "outputs": [],
   "source": [
    "empty_dict={}"
   ]
  },
  {
   "cell_type": "code",
   "execution_count": 2,
   "id": "19c6d176",
   "metadata": {
    "ExecuteTime": {
     "end_time": "2021-07-14T16:26:38.864410Z",
     "start_time": "2021-07-14T16:26:38.836868Z"
    }
   },
   "outputs": [
    {
     "name": "stdout",
     "output_type": "stream",
     "text": [
      "{}\n"
     ]
    }
   ],
   "source": [
    "print(empty_dict)"
   ]
  },
  {
   "cell_type": "code",
   "execution_count": 3,
   "id": "a0552858",
   "metadata": {
    "ExecuteTime": {
     "end_time": "2021-07-14T16:26:49.139238Z",
     "start_time": "2021-07-14T16:26:49.112703Z"
    }
   },
   "outputs": [
    {
     "data": {
      "text/plain": [
       "dict"
      ]
     },
     "execution_count": 3,
     "metadata": {},
     "output_type": "execute_result"
    }
   ],
   "source": [
    "type(empty_dict)"
   ]
  },
  {
   "cell_type": "code",
   "execution_count": 4,
   "id": "a0e6dcde",
   "metadata": {
    "ExecuteTime": {
     "end_time": "2021-07-14T16:27:08.064526Z",
     "start_time": "2021-07-14T16:27:08.053289Z"
    }
   },
   "outputs": [],
   "source": [
    "d1 = {'a' : 'some value', 'b' : [1, 2, 3, 4]}"
   ]
  },
  {
   "cell_type": "code",
   "execution_count": 5,
   "id": "a8f53165",
   "metadata": {
    "ExecuteTime": {
     "end_time": "2021-07-14T16:27:21.878703Z",
     "start_time": "2021-07-14T16:27:21.858707Z"
    }
   },
   "outputs": [
    {
     "data": {
      "text/plain": [
       "{'a': 'some value', 'b': [1, 2, 3, 4]}"
      ]
     },
     "execution_count": 5,
     "metadata": {},
     "output_type": "execute_result"
    }
   ],
   "source": [
    "d1 "
   ]
  },
  {
   "cell_type": "markdown",
   "id": "98c0d075",
   "metadata": {},
   "source": [
    "#### You can access, insert, or set elements using the same syntax as for accessing elements of a list or tuple:\n"
   ]
  },
  {
   "cell_type": "code",
   "execution_count": 6,
   "id": "3b820edb",
   "metadata": {
    "ExecuteTime": {
     "end_time": "2021-07-14T16:28:19.533133Z",
     "start_time": "2021-07-14T16:28:19.524901Z"
    }
   },
   "outputs": [
    {
     "data": {
      "text/plain": [
       "'some value'"
      ]
     },
     "execution_count": 6,
     "metadata": {},
     "output_type": "execute_result"
    }
   ],
   "source": [
    "d1['a']"
   ]
  },
  {
   "cell_type": "code",
   "execution_count": 7,
   "id": "84fe14a0",
   "metadata": {
    "ExecuteTime": {
     "end_time": "2021-07-14T16:28:26.594521Z",
     "start_time": "2021-07-14T16:28:26.579073Z"
    }
   },
   "outputs": [
    {
     "data": {
      "text/plain": [
       "[1, 2, 3, 4]"
      ]
     },
     "execution_count": 7,
     "metadata": {},
     "output_type": "execute_result"
    }
   ],
   "source": [
    "d1['b']"
   ]
  },
  {
   "cell_type": "code",
   "execution_count": 8,
   "id": "2abd9b62",
   "metadata": {
    "ExecuteTime": {
     "end_time": "2021-07-14T16:28:42.746045Z",
     "start_time": "2021-07-14T16:28:42.411095Z"
    }
   },
   "outputs": [
    {
     "ename": "KeyError",
     "evalue": "'c'",
     "output_type": "error",
     "traceback": [
      "\u001b[1;31m---------------------------------------------------------------------------\u001b[0m",
      "\u001b[1;31mKeyError\u001b[0m                                  Traceback (most recent call last)",
      "\u001b[1;32m<ipython-input-8-60b2f2ae7442>\u001b[0m in \u001b[0;36m<module>\u001b[1;34m\u001b[0m\n\u001b[1;32m----> 1\u001b[1;33m \u001b[0md1\u001b[0m\u001b[1;33m[\u001b[0m\u001b[1;34m'c'\u001b[0m\u001b[1;33m]\u001b[0m\u001b[1;33m\u001b[0m\u001b[1;33m\u001b[0m\u001b[0m\n\u001b[0m",
      "\u001b[1;31mKeyError\u001b[0m: 'c'"
     ]
    }
   ],
   "source": [
    "d1['c']"
   ]
  },
  {
   "cell_type": "code",
   "execution_count": 9,
   "id": "62af523a",
   "metadata": {
    "ExecuteTime": {
     "end_time": "2021-07-14T16:29:18.851798Z",
     "start_time": "2021-07-14T16:29:18.842877Z"
    }
   },
   "outputs": [],
   "source": [
    "d1['c']=\"this is c\""
   ]
  },
  {
   "cell_type": "code",
   "execution_count": 10,
   "id": "5876a5cf",
   "metadata": {
    "ExecuteTime": {
     "end_time": "2021-07-14T16:29:21.058579Z",
     "start_time": "2021-07-14T16:29:21.045798Z"
    }
   },
   "outputs": [
    {
     "data": {
      "text/plain": [
       "{'a': 'some value', 'b': [1, 2, 3, 4], 'c': 'this is c'}"
      ]
     },
     "execution_count": 10,
     "metadata": {},
     "output_type": "execute_result"
    }
   ],
   "source": [
    "d1 "
   ]
  },
  {
   "cell_type": "code",
   "execution_count": 11,
   "id": "94958caf",
   "metadata": {
    "ExecuteTime": {
     "end_time": "2021-07-14T16:29:55.644177Z",
     "start_time": "2021-07-14T16:29:55.624407Z"
    }
   },
   "outputs": [
    {
     "data": {
      "text/plain": [
       "'this is c'"
      ]
     },
     "execution_count": 11,
     "metadata": {},
     "output_type": "execute_result"
    }
   ],
   "source": [
    "d1['c']"
   ]
  },
  {
   "cell_type": "code",
   "execution_count": 12,
   "id": "fc89d403",
   "metadata": {
    "ExecuteTime": {
     "end_time": "2021-07-14T16:30:10.025551Z",
     "start_time": "2021-07-14T16:30:10.005706Z"
    }
   },
   "outputs": [],
   "source": [
    "# No Key Error"
   ]
  },
  {
   "cell_type": "code",
   "execution_count": 13,
   "id": "2f356bc3",
   "metadata": {
    "ExecuteTime": {
     "end_time": "2021-07-14T16:30:31.554602Z",
     "start_time": "2021-07-14T16:30:31.532384Z"
    }
   },
   "outputs": [],
   "source": [
    "d1['dummy'] = 'another value'"
   ]
  },
  {
   "cell_type": "code",
   "execution_count": 14,
   "id": "4930721b",
   "metadata": {
    "ExecuteTime": {
     "end_time": "2021-07-14T16:30:33.706623Z",
     "start_time": "2021-07-14T16:30:33.693610Z"
    }
   },
   "outputs": [
    {
     "data": {
      "text/plain": [
       "{'a': 'some value',\n",
       " 'b': [1, 2, 3, 4],\n",
       " 'c': 'this is c',\n",
       " 'dummy': 'another value'}"
      ]
     },
     "execution_count": 14,
     "metadata": {},
     "output_type": "execute_result"
    }
   ],
   "source": [
    "d1 "
   ]
  },
  {
   "cell_type": "code",
   "execution_count": 15,
   "id": "f7490899",
   "metadata": {
    "ExecuteTime": {
     "end_time": "2021-07-14T16:31:13.996169Z",
     "start_time": "2021-07-14T16:31:13.986033Z"
    }
   },
   "outputs": [],
   "source": [
    "# well i dont want c here\n",
    "del d1['c']"
   ]
  },
  {
   "cell_type": "code",
   "execution_count": 16,
   "id": "7b0572cf",
   "metadata": {
    "ExecuteTime": {
     "end_time": "2021-07-14T16:31:17.847184Z",
     "start_time": "2021-07-14T16:31:17.834399Z"
    }
   },
   "outputs": [
    {
     "data": {
      "text/plain": [
       "{'a': 'some value', 'b': [1, 2, 3, 4], 'dummy': 'another value'}"
      ]
     },
     "execution_count": 16,
     "metadata": {},
     "output_type": "execute_result"
    }
   ],
   "source": [
    "d1 "
   ]
  },
  {
   "cell_type": "code",
   "execution_count": 17,
   "id": "6e0a1e1d",
   "metadata": {
    "ExecuteTime": {
     "end_time": "2021-07-14T16:32:08.266591Z",
     "start_time": "2021-07-14T16:32:08.257961Z"
    }
   },
   "outputs": [],
   "source": [
    "#i dont want dummy here but i need its value\n",
    "ret = d1.pop('dummy')"
   ]
  },
  {
   "cell_type": "code",
   "execution_count": 18,
   "id": "a30d12a7",
   "metadata": {
    "ExecuteTime": {
     "end_time": "2021-07-14T16:32:10.752403Z",
     "start_time": "2021-07-14T16:32:10.743494Z"
    }
   },
   "outputs": [
    {
     "data": {
      "text/plain": [
       "{'a': 'some value', 'b': [1, 2, 3, 4]}"
      ]
     },
     "execution_count": 18,
     "metadata": {},
     "output_type": "execute_result"
    }
   ],
   "source": [
    "d1 "
   ]
  },
  {
   "cell_type": "code",
   "execution_count": 19,
   "id": "fa7beea4",
   "metadata": {
    "ExecuteTime": {
     "end_time": "2021-07-14T16:32:16.288875Z",
     "start_time": "2021-07-14T16:32:16.268148Z"
    }
   },
   "outputs": [
    {
     "data": {
      "text/plain": [
       "'another value'"
      ]
     },
     "execution_count": 19,
     "metadata": {},
     "output_type": "execute_result"
    }
   ],
   "source": [
    "ret"
   ]
  },
  {
   "cell_type": "code",
   "execution_count": 20,
   "id": "841e3a76",
   "metadata": {
    "ExecuteTime": {
     "end_time": "2021-07-14T16:34:00.099205Z",
     "start_time": "2021-07-14T16:34:00.084203Z"
    }
   },
   "outputs": [],
   "source": [
    "contacts={'Me':830,'Frnd':768,'Classmate':420}"
   ]
  },
  {
   "cell_type": "code",
   "execution_count": 21,
   "id": "9a2c1da4",
   "metadata": {
    "ExecuteTime": {
     "end_time": "2021-07-14T16:36:33.403755Z",
     "start_time": "2021-07-14T16:36:33.381752Z"
    }
   },
   "outputs": [
    {
     "data": {
      "text/plain": [
       "3"
      ]
     },
     "execution_count": 21,
     "metadata": {},
     "output_type": "execute_result"
    }
   ],
   "source": [
    "#so i have some contacts in my phone just assume and have a name and phone number corresponding to it\n",
    "\n",
    "\n",
    "#i need total contacts in my phone assume  *contacts* as my contacts in my phone uff\n",
    "\n",
    "len(contacts)\n"
   ]
  },
  {
   "cell_type": "code",
   "execution_count": 22,
   "id": "3b210f92",
   "metadata": {
    "ExecuteTime": {
     "end_time": "2021-07-14T16:37:10.689700Z",
     "start_time": "2021-07-14T16:37:10.678695Z"
    }
   },
   "outputs": [
    {
     "data": {
      "text/plain": [
       "768"
      ]
     },
     "execution_count": 22,
     "metadata": {},
     "output_type": "execute_result"
    }
   ],
   "source": [
    "# i need my frnds num \n",
    "\n",
    "contacts['Frnd']"
   ]
  },
  {
   "cell_type": "code",
   "execution_count": 23,
   "id": "b426c1c5",
   "metadata": {
    "ExecuteTime": {
     "end_time": "2021-07-14T16:37:46.997877Z",
     "start_time": "2021-07-14T16:37:46.988880Z"
    }
   },
   "outputs": [
    {
     "data": {
      "text/plain": [
       "dict_keys(['Me', 'Frnd', 'Classmate'])"
      ]
     },
     "execution_count": 23,
     "metadata": {},
     "output_type": "execute_result"
    }
   ],
   "source": [
    "#well i need all contact names in my phone\n",
    "\n",
    "contacts.keys()"
   ]
  },
  {
   "cell_type": "code",
   "execution_count": 24,
   "id": "12431022",
   "metadata": {
    "ExecuteTime": {
     "end_time": "2021-07-14T16:37:58.924154Z",
     "start_time": "2021-07-14T16:37:58.904152Z"
    }
   },
   "outputs": [
    {
     "name": "stdout",
     "output_type": "stream",
     "text": [
      "dict_keys(['Me', 'Frnd', 'Classmate'])\n"
     ]
    }
   ],
   "source": [
    "print(contacts.keys())"
   ]
  },
  {
   "cell_type": "code",
   "execution_count": 25,
   "id": "ff122db7",
   "metadata": {
    "ExecuteTime": {
     "end_time": "2021-07-14T16:39:17.291432Z",
     "start_time": "2021-07-14T16:39:17.275425Z"
    }
   },
   "outputs": [
    {
     "data": {
      "text/plain": [
       "dict_values([830, 768, 420])"
      ]
     },
     "execution_count": 25,
     "metadata": {},
     "output_type": "execute_result"
    }
   ],
   "source": [
    "#you can also get all values in this case phone nums\n",
    "\n",
    "contacts.values()"
   ]
  },
  {
   "cell_type": "code",
   "execution_count": 26,
   "id": "ccce3900",
   "metadata": {
    "ExecuteTime": {
     "end_time": "2021-07-14T16:41:13.376185Z",
     "start_time": "2021-07-14T16:41:13.359185Z"
    }
   },
   "outputs": [],
   "source": [
    "#well both my frnd and classmate changed their numbers so i need to change both at once\n",
    "contacts.update({'Frnd':650,'Classmate':720})"
   ]
  },
  {
   "cell_type": "code",
   "execution_count": 27,
   "id": "48b495e4",
   "metadata": {
    "ExecuteTime": {
     "end_time": "2021-07-14T16:41:19.416161Z",
     "start_time": "2021-07-14T16:41:19.397118Z"
    }
   },
   "outputs": [
    {
     "data": {
      "text/plain": [
       "{'Me': 830, 'Frnd': 650, 'Classmate': 720}"
      ]
     },
     "execution_count": 27,
     "metadata": {},
     "output_type": "execute_result"
    }
   ],
   "source": [
    "contacts"
   ]
  },
  {
   "cell_type": "code",
   "execution_count": 28,
   "id": "c131b560",
   "metadata": {
    "ExecuteTime": {
     "end_time": "2021-07-14T16:42:58.739261Z",
     "start_time": "2021-07-14T16:42:58.728230Z"
    }
   },
   "outputs": [],
   "source": [
    "#well make sure that dictionary passed has values that are already exist \n",
    "#it will create a new key and assign the value if key doesnt exist\n",
    "\n",
    "contacts.update({'Frnd1':564})"
   ]
  },
  {
   "cell_type": "code",
   "execution_count": 29,
   "id": "43a2a3f8",
   "metadata": {
    "ExecuteTime": {
     "end_time": "2021-07-14T16:43:02.418966Z",
     "start_time": "2021-07-14T16:43:02.408957Z"
    }
   },
   "outputs": [
    {
     "data": {
      "text/plain": [
       "{'Me': 830, 'Frnd': 650, 'Classmate': 720, 'Frnd1': 564}"
      ]
     },
     "execution_count": 29,
     "metadata": {},
     "output_type": "execute_result"
    }
   ],
   "source": [
    "contacts"
   ]
  },
  {
   "cell_type": "markdown",
   "id": "bd0f6072",
   "metadata": {},
   "source": [
    "# Creating dicts from sequences"
   ]
  },
  {
   "cell_type": "code",
   "execution_count": 30,
   "id": "f1fe0dc0",
   "metadata": {
    "ExecuteTime": {
     "end_time": "2021-07-14T16:47:00.424077Z",
     "start_time": "2021-07-14T16:47:00.411077Z"
    }
   },
   "outputs": [],
   "source": [
    "products=[\"Milk\",'Sugar','rice','chocolates']\n",
    "quantity=[3,5,10,45]"
   ]
  },
  {
   "cell_type": "code",
   "execution_count": 31,
   "id": "bdbb7a70",
   "metadata": {
    "ExecuteTime": {
     "end_time": "2021-07-14T16:47:11.781676Z",
     "start_time": "2021-07-14T16:47:11.771675Z"
    }
   },
   "outputs": [
    {
     "data": {
      "text/plain": [
       "<zip at 0x16b1d0f4cc0>"
      ]
     },
     "execution_count": 31,
     "metadata": {},
     "output_type": "execute_result"
    }
   ],
   "source": [
    "zip(products,quantity)"
   ]
  },
  {
   "cell_type": "code",
   "execution_count": 32,
   "id": "36c41d11",
   "metadata": {
    "ExecuteTime": {
     "end_time": "2021-07-14T16:47:38.244755Z",
     "start_time": "2021-07-14T16:47:38.237747Z"
    }
   },
   "outputs": [
    {
     "name": "stdout",
     "output_type": "stream",
     "text": [
      "<zip object at 0x0000016B1CE93C00>\n"
     ]
    }
   ],
   "source": [
    "print(zip(products,quantity))"
   ]
  },
  {
   "cell_type": "code",
   "execution_count": 33,
   "id": "65e81dd3",
   "metadata": {
    "ExecuteTime": {
     "end_time": "2021-07-14T16:47:57.396569Z",
     "start_time": "2021-07-14T16:47:57.379566Z"
    }
   },
   "outputs": [
    {
     "data": {
      "text/plain": [
       "[('Milk', 3), ('Sugar', 5), ('rice', 10), ('chocolates', 45)]"
      ]
     },
     "execution_count": 33,
     "metadata": {},
     "output_type": "execute_result"
    }
   ],
   "source": [
    "list(zip(products,quantity))"
   ]
  },
  {
   "cell_type": "markdown",
   "id": "d5472b9a",
   "metadata": {},
   "source": [
    "<pre>It’s common to occasionally end up with two sequences that you want to pair up\n",
    "element-wise in a dict. As a first cut, you might write code like this:</pre>"
   ]
  },
  {
   "cell_type": "code",
   "execution_count": 34,
   "id": "3e31ca6b",
   "metadata": {
    "ExecuteTime": {
     "end_time": "2021-07-14T16:49:39.841001Z",
     "start_time": "2021-07-14T16:49:39.831003Z"
    }
   },
   "outputs": [],
   "source": [
    "products_list={}\n",
    "for key,value in zip(products,quantity):\n",
    "    products_list[key]=value"
   ]
  },
  {
   "cell_type": "code",
   "execution_count": 35,
   "id": "54384fcd",
   "metadata": {
    "ExecuteTime": {
     "end_time": "2021-07-14T16:49:50.051977Z",
     "start_time": "2021-07-14T16:49:50.028976Z"
    }
   },
   "outputs": [
    {
     "data": {
      "text/plain": [
       "{'Milk': 3, 'Sugar': 5, 'rice': 10, 'chocolates': 45}"
      ]
     },
     "execution_count": 35,
     "metadata": {},
     "output_type": "execute_result"
    }
   ],
   "source": [
    "products_list"
   ]
  },
  {
   "cell_type": "code",
   "execution_count": 36,
   "id": "b1f19b75",
   "metadata": {
    "ExecuteTime": {
     "end_time": "2021-07-14T16:56:08.402954Z",
     "start_time": "2021-07-14T16:56:08.383945Z"
    }
   },
   "outputs": [
    {
     "ename": "KeyError",
     "evalue": "'Maggie'",
     "output_type": "error",
     "traceback": [
      "\u001b[1;31m---------------------------------------------------------------------------\u001b[0m",
      "\u001b[1;31mKeyError\u001b[0m                                  Traceback (most recent call last)",
      "\u001b[1;32m<ipython-input-36-11eb2cf9da9e>\u001b[0m in \u001b[0;36m<module>\u001b[1;34m\u001b[0m\n\u001b[0;32m      1\u001b[0m \u001b[1;31m#if we try to access a key which doesnt exist it raises key error so how do we manage that error\u001b[0m\u001b[1;33m\u001b[0m\u001b[1;33m\u001b[0m\u001b[1;33m\u001b[0m\u001b[0m\n\u001b[1;32m----> 2\u001b[1;33m \u001b[0mproducts_list\u001b[0m\u001b[1;33m[\u001b[0m\u001b[1;34m'Maggie'\u001b[0m\u001b[1;33m]\u001b[0m\u001b[1;33m\u001b[0m\u001b[1;33m\u001b[0m\u001b[0m\n\u001b[0m",
      "\u001b[1;31mKeyError\u001b[0m: 'Maggie'"
     ]
    }
   ],
   "source": [
    "#if we try to access a key which doesnt exist it raises key error so how do we manage that error\n",
    "products_list['Maggie']"
   ]
  },
  {
   "cell_type": "code",
   "execution_count": 37,
   "id": "2e94d795",
   "metadata": {
    "ExecuteTime": {
     "end_time": "2021-07-14T16:56:36.938211Z",
     "start_time": "2021-07-14T16:56:36.924214Z"
    }
   },
   "outputs": [],
   "source": [
    "products_list.get('Maggie')"
   ]
  },
  {
   "cell_type": "code",
   "execution_count": 38,
   "id": "1f310a0c",
   "metadata": {
    "ExecuteTime": {
     "end_time": "2021-07-14T16:57:22.746854Z",
     "start_time": "2021-07-14T16:57:22.728846Z"
    }
   },
   "outputs": [
    {
     "data": {
      "text/plain": [
       "'Item Doesnt exist'"
      ]
     },
     "execution_count": 38,
     "metadata": {},
     "output_type": "execute_result"
    }
   ],
   "source": [
    "#its none how about giving a value \n",
    "products_list.get('Maggie','Item Doesnt exist')"
   ]
  },
  {
   "cell_type": "code",
   "execution_count": 39,
   "id": "60a9890b",
   "metadata": {
    "ExecuteTime": {
     "end_time": "2021-07-14T16:57:41.518934Z",
     "start_time": "2021-07-14T16:57:41.507936Z"
    }
   },
   "outputs": [
    {
     "data": {
      "text/plain": [
       "0"
      ]
     },
     "execution_count": 39,
     "metadata": {},
     "output_type": "execute_result"
    }
   ],
   "source": [
    "products_list.get('Maggie',0)"
   ]
  },
  {
   "cell_type": "code",
   "execution_count": 40,
   "id": "6aef1955",
   "metadata": {
    "ExecuteTime": {
     "end_time": "2021-07-14T16:58:40.495441Z",
     "start_time": "2021-07-14T16:58:40.474443Z"
    }
   },
   "outputs": [
    {
     "data": {
      "text/plain": [
       "3"
      ]
     },
     "execution_count": 40,
     "metadata": {},
     "output_type": "execute_result"
    }
   ],
   "source": [
    "#what if key exists already\n",
    "products_list.get('Milk','It doesnt exist')"
   ]
  },
  {
   "cell_type": "code",
   "execution_count": 41,
   "id": "36d5056b",
   "metadata": {
    "ExecuteTime": {
     "end_time": "2021-07-14T17:00:36.888069Z",
     "start_time": "2021-07-14T17:00:36.881073Z"
    }
   },
   "outputs": [],
   "source": [
    "#oops we passed it doesnt exist why is it geeting three?\n",
    "#get method returns the value of a key from dict if key exists else\n",
    "#return default value passed in the second argument \n",
    "#you might get a doubt that dictionary is changing \n",
    "#lets verify that"
   ]
  },
  {
   "cell_type": "code",
   "execution_count": 42,
   "id": "d22d9b52",
   "metadata": {
    "ExecuteTime": {
     "end_time": "2021-07-14T17:00:43.537368Z",
     "start_time": "2021-07-14T17:00:43.525368Z"
    }
   },
   "outputs": [
    {
     "data": {
      "text/plain": [
       "{'Milk': 3, 'Sugar': 5, 'rice': 10, 'chocolates': 45}"
      ]
     },
     "execution_count": 42,
     "metadata": {},
     "output_type": "execute_result"
    }
   ],
   "source": [
    "products_list"
   ]
  },
  {
   "cell_type": "code",
   "execution_count": 43,
   "id": "99060990",
   "metadata": {
    "ExecuteTime": {
     "end_time": "2021-07-14T17:01:12.281646Z",
     "start_time": "2021-07-14T17:01:12.267635Z"
    }
   },
   "outputs": [],
   "source": [
    "#see nothing changed"
   ]
  },
  {
   "cell_type": "code",
   "execution_count": 44,
   "id": "ca47e0d0",
   "metadata": {
    "ExecuteTime": {
     "end_time": "2021-07-14T17:01:14.106817Z",
     "start_time": "2021-07-14T17:01:14.097818Z"
    }
   },
   "outputs": [],
   "source": [
    "words = ['apple', 'bat', 'bar', 'atom', 'book']"
   ]
  },
  {
   "cell_type": "code",
   "execution_count": 45,
   "id": "20fbf933",
   "metadata": {
    "ExecuteTime": {
     "end_time": "2021-07-14T17:01:22.212390Z",
     "start_time": "2021-07-14T17:01:22.201390Z"
    }
   },
   "outputs": [],
   "source": [
    "by_letter = {}\n"
   ]
  },
  {
   "cell_type": "code",
   "execution_count": 46,
   "id": "f558aa61",
   "metadata": {
    "ExecuteTime": {
     "end_time": "2021-07-14T17:02:09.717367Z",
     "start_time": "2021-07-14T17:02:09.710352Z"
    }
   },
   "outputs": [],
   "source": [
    "for word in words:\n",
    "    letter = word[0]\n",
    "    if letter not in by_letter:\n",
    "        by_letter[letter] = [word]\n",
    "    else:\n",
    "        by_letter[letter].append(word)"
   ]
  },
  {
   "cell_type": "code",
   "execution_count": 47,
   "id": "8a0657c6",
   "metadata": {
    "ExecuteTime": {
     "end_time": "2021-07-14T17:02:13.997103Z",
     "start_time": "2021-07-14T17:02:13.985091Z"
    }
   },
   "outputs": [
    {
     "data": {
      "text/plain": [
       "{'a': ['apple', 'atom'], 'b': ['bat', 'bar', 'book']}"
      ]
     },
     "execution_count": 47,
     "metadata": {},
     "output_type": "execute_result"
    }
   ],
   "source": [
    "by_letter"
   ]
  },
  {
   "cell_type": "markdown",
   "id": "83879970",
   "metadata": {},
   "source": [
    "### The setdefault dict method is for precisely this purpose. The preceding for loop can be rewritten as:"
   ]
  },
  {
   "cell_type": "code",
   "execution_count": 48,
   "id": "7e92a2ea",
   "metadata": {
    "ExecuteTime": {
     "end_time": "2021-07-14T17:04:19.428628Z",
     "start_time": "2021-07-14T17:04:19.408662Z"
    }
   },
   "outputs": [],
   "source": [
    "letter_words={}\n",
    "for word in words:\n",
    "    letter = word[0]\n",
    "    letter_words.setdefault(letter, []).append(word)"
   ]
  },
  {
   "cell_type": "code",
   "execution_count": 49,
   "id": "909ee49e",
   "metadata": {
    "ExecuteTime": {
     "end_time": "2021-07-14T17:04:28.630620Z",
     "start_time": "2021-07-14T17:04:28.622618Z"
    }
   },
   "outputs": [
    {
     "data": {
      "text/plain": [
       "{'a': ['apple', 'atom'], 'b': ['bat', 'bar', 'book']}"
      ]
     },
     "execution_count": 49,
     "metadata": {},
     "output_type": "execute_result"
    }
   ],
   "source": [
    "letter_words"
   ]
  },
  {
   "cell_type": "markdown",
   "id": "243eb722",
   "metadata": {},
   "source": [
    "<pre>The built-in collections module has a useful class, defaultdict, which makes this\n",
    "even easier. To create one, you pass a type or function for generating the default value\n",
    "for each slot in the dict:</pre>"
   ]
  },
  {
   "cell_type": "code",
   "execution_count": 50,
   "id": "aac2fbe4",
   "metadata": {
    "ExecuteTime": {
     "end_time": "2021-07-14T17:05:30.397060Z",
     "start_time": "2021-07-14T17:05:30.382069Z"
    }
   },
   "outputs": [],
   "source": [
    "from collections import defaultdict\n",
    "by_letter = defaultdict(list)\n",
    "for word in words:\n",
    "    by_letter[word[0]].append(word)\n"
   ]
  },
  {
   "cell_type": "code",
   "execution_count": 51,
   "id": "38c1d83f",
   "metadata": {
    "ExecuteTime": {
     "end_time": "2021-07-14T17:05:34.197300Z",
     "start_time": "2021-07-14T17:05:34.175298Z"
    }
   },
   "outputs": [
    {
     "data": {
      "text/plain": [
       "defaultdict(list, {'a': ['apple', 'atom'], 'b': ['bat', 'bar', 'book']})"
      ]
     },
     "execution_count": 51,
     "metadata": {},
     "output_type": "execute_result"
    }
   ],
   "source": [
    "by_letter"
   ]
  },
  {
   "cell_type": "markdown",
   "id": "a464ee5b",
   "metadata": {},
   "source": [
    "# Valid dict key types"
   ]
  },
  {
   "cell_type": "markdown",
   "id": "0aba9b7a",
   "metadata": {},
   "source": [
    "<pre>While the values of a dict can be any Python object, the keys generally have to be\n",
    "immutable objects like scalar types (int, float, string) or tuples (all the objects in the\n",
    "tuple need to be immutable, too). The technical term here is hashability. You can\n",
    "check whether an object is hashable (can be used as a key in a dict) with the hash\n",
    "function:</pre>"
   ]
  },
  {
   "cell_type": "code",
   "execution_count": 52,
   "id": "5c59f6af",
   "metadata": {
    "ExecuteTime": {
     "end_time": "2021-07-14T17:08:49.642378Z",
     "start_time": "2021-07-14T17:08:49.632377Z"
    }
   },
   "outputs": [
    {
     "data": {
      "text/plain": [
       "-6108953575468247313"
      ]
     },
     "execution_count": 52,
     "metadata": {},
     "output_type": "execute_result"
    }
   ],
   "source": [
    "hash(\"Random\")"
   ]
  },
  {
   "cell_type": "code",
   "execution_count": 53,
   "id": "106c5d4b",
   "metadata": {
    "ExecuteTime": {
     "end_time": "2021-07-14T17:09:02.066458Z",
     "start_time": "2021-07-14T17:09:02.043426Z"
    }
   },
   "outputs": [
    {
     "data": {
      "text/plain": [
       "-6108953575468247313"
      ]
     },
     "execution_count": 53,
     "metadata": {},
     "output_type": "execute_result"
    }
   ],
   "source": [
    "hash(\"Random\")"
   ]
  },
  {
   "cell_type": "code",
   "execution_count": 54,
   "id": "f312cee9",
   "metadata": {
    "ExecuteTime": {
     "end_time": "2021-07-14T17:09:21.755374Z",
     "start_time": "2021-07-14T17:09:21.736373Z"
    }
   },
   "outputs": [
    {
     "data": {
      "text/plain": [
       "-9209053662355515447"
      ]
     },
     "execution_count": 54,
     "metadata": {},
     "output_type": "execute_result"
    }
   ],
   "source": [
    "hash((1, 2, (2, 3)))"
   ]
  },
  {
   "cell_type": "code",
   "execution_count": 56,
   "id": "5b159e3a",
   "metadata": {
    "ExecuteTime": {
     "end_time": "2021-07-14T17:09:54.824879Z",
     "start_time": "2021-07-14T17:09:54.798848Z"
    }
   },
   "outputs": [
    {
     "ename": "TypeError",
     "evalue": "unhashable type: 'list'",
     "output_type": "error",
     "traceback": [
      "\u001b[1;31m---------------------------------------------------------------------------\u001b[0m",
      "\u001b[1;31mTypeError\u001b[0m                                 Traceback (most recent call last)",
      "\u001b[1;32m<ipython-input-56-71749dbe18b5>\u001b[0m in \u001b[0;36m<module>\u001b[1;34m\u001b[0m\n\u001b[1;32m----> 1\u001b[1;33m \u001b[0mhash\u001b[0m\u001b[1;33m(\u001b[0m\u001b[1;33m(\u001b[0m\u001b[1;36m1\u001b[0m\u001b[1;33m,\u001b[0m \u001b[1;36m2\u001b[0m\u001b[1;33m,\u001b[0m \u001b[1;33m[\u001b[0m\u001b[1;36m2\u001b[0m\u001b[1;33m,\u001b[0m \u001b[1;36m3\u001b[0m\u001b[1;33m]\u001b[0m\u001b[1;33m)\u001b[0m\u001b[1;33m)\u001b[0m \u001b[1;31m# fails because lists are mutable so you cant use this as key\u001b[0m\u001b[1;33m\u001b[0m\u001b[1;33m\u001b[0m\u001b[0m\n\u001b[0m",
      "\u001b[1;31mTypeError\u001b[0m: unhashable type: 'list'"
     ]
    }
   ],
   "source": [
    "hash((1, 2, [2, 3])) # fails because lists are mutable so you cant use this as key"
   ]
  },
  {
   "cell_type": "code",
   "execution_count": null,
   "id": "bfea8522",
   "metadata": {},
   "outputs": [],
   "source": []
  }
 ],
 "metadata": {
  "kernelspec": {
   "display_name": "Python 3",
   "language": "python",
   "name": "python3"
  },
  "language_info": {
   "codemirror_mode": {
    "name": "ipython",
    "version": 3
   },
   "file_extension": ".py",
   "mimetype": "text/x-python",
   "name": "python",
   "nbconvert_exporter": "python",
   "pygments_lexer": "ipython3",
   "version": "3.9.2"
  },
  "varInspector": {
   "cols": {
    "lenName": 16,
    "lenType": 16,
    "lenVar": "400"
   },
   "kernels_config": {
    "python": {
     "delete_cmd_postfix": "",
     "delete_cmd_prefix": "del ",
     "library": "var_list.py",
     "varRefreshCmd": "print(var_dic_list())"
    },
    "r": {
     "delete_cmd_postfix": ") ",
     "delete_cmd_prefix": "rm(",
     "library": "var_list.r",
     "varRefreshCmd": "cat(var_dic_list()) "
    }
   },
   "types_to_exclude": [
    "module",
    "function",
    "builtin_function_or_method",
    "instance",
    "_Feature"
   ],
   "window_display": false
  }
 },
 "nbformat": 4,
 "nbformat_minor": 5
}
